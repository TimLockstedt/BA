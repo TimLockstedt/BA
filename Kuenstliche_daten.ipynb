{
 "cells": [
  {
   "cell_type": "markdown",
   "metadata": {},
   "source": [
    "# Selbst generierte Künstliche fibers"
   ]
  },
  {
   "cell_type": "code",
   "execution_count": 1,
   "metadata": {},
   "outputs": [],
   "source": [
    "import numpy as np\n",
    "import odf3"
   ]
  },
  {
   "cell_type": "code",
   "execution_count": 2,
   "metadata": {},
   "outputs": [],
   "source": [
    "Direction_zero = np.zeros((100,100,3))\n",
    "Inclination_zero = np.copy(Direction_zero)\n",
    "mask = np.ones((100,100,3))"
   ]
  },
  {
   "cell_type": "code",
   "execution_count": 22,
   "metadata": {},
   "outputs": [],
   "source": [
    "# direction füllen\n",
    "for i in range(Direction_zero.shape[0]):\n",
    "    for j in range(Direction_zero.shape[1]):\n",
    "        for k in range(Direction_zero.shape[2]):\n",
    "            if (i-50)**2+(j-50)**2  <= 45**2 and (i-50)**2+(j-50)**2 >= 40**2:\n",
    "                Direction_zero[i,j,k] = np.arctan2(i,j)\n"
   ]
  },
  {
   "cell_type": "code",
   "execution_count": 23,
   "metadata": {},
   "outputs": [],
   "source": [
    "band = 12\n",
    "ODFs = odf3.compute(Direction_zero[:,:,:,None], Inclination_zero[:,:,:,None], mask[:,:,:,None], band)"
   ]
  },
  {
   "cell_type": "code",
   "execution_count": 25,
   "metadata": {},
   "outputs": [],
   "source": [
    "odf3.coefficients_to_mrtrix_nii(f\"ku_deg_Test_100umgebung_{band}band\", ODFs[:,:,:,:])"
   ]
  },
  {
   "cell_type": "code",
   "execution_count": null,
   "metadata": {},
   "outputs": [],
   "source": []
  }
 ],
 "metadata": {
  "kernelspec": {
   "display_name": "Python 3",
   "language": "python",
   "name": "python3"
  },
  "language_info": {
   "codemirror_mode": {
    "name": "ipython",
    "version": 3
   },
   "file_extension": ".py",
   "mimetype": "text/x-python",
   "name": "python",
   "nbconvert_exporter": "python",
   "pygments_lexer": "ipython3",
   "version": "3.11.5"
  }
 },
 "nbformat": 4,
 "nbformat_minor": 2
}
